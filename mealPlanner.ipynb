{
 "cells": [
  {
   "cell_type": "code",
   "execution_count": 1,
   "metadata": {},
   "outputs": [],
   "source": [
    "import calendar\n",
    "import datetime\n",
    "import pandas as pd"
   ]
  },
  {
   "cell_type": "code",
   "execution_count": 2,
   "metadata": {},
   "outputs": [],
   "source": [
    "# enter the first day of the target month\n",
    "targetMonth = datetime.date(2021, 3, 1)"
   ]
  },
  {
   "cell_type": "code",
   "execution_count": 6,
   "metadata": {},
   "outputs": [],
   "source": [
    "# create a list of days in the target month\n",
    "daysInMonth = calendar.monthrange(targetMonth.year, targetMonth.month)[1]\n",
    "daysOfMonth = [datetime.date(targetMonth.year, targetMonth.month, day) for day in range(1, daysInMonth + 1)]"
   ]
  },
  {
   "cell_type": "code",
   "execution_count": 7,
   "metadata": {},
   "outputs": [],
   "source": [
    "# create day of week labels for days in target month\n",
    "dayOfWeek = [x.weekday() for x in daysOfMonth]\n",
    "dayOfWeekChar = [calendar.day_name[x] for x in dayOfWeek]"
   ]
  },
  {
   "cell_type": "code",
   "execution_count": 78,
   "metadata": {},
   "outputs": [],
   "source": [
    "# initialize meals (all blank for now)\n",
    "breakfast = ['breakfast' for x in range(0, daysInMonth)]\n",
    "lunch = [None for x in range(0, daysInMonth)]\n",
    "dinner = [None for x in range(0, daysInMonth)]"
   ]
  },
  {
   "cell_type": "code",
   "execution_count": 109,
   "metadata": {},
   "outputs": [],
   "source": [
    "# combine the days and meals as a dict, then convert that to a pandas dataframe\n",
    "# repeat for each potential meal\n",
    "mealsDict = {'dayOfMonth':dayOfMonth\n",
    "             , 'dayOfWeek':dayOfWeek\n",
    "             , 'dayOfWeekChar':dayOfWeekChar\n",
    "            }\n",
    "\n",
    "mealsDF = pd.concat([pd.DataFrame(mealsDict).assign(meal = 'breakfast')\n",
    "                     , pd.DataFrame(mealsDict).assign(meal = 'lunch')\n",
    "                     , pd.DataFrame(mealsDict).assign(meal = 'dinner')]\n",
    "                   )"
   ]
  },
  {
   "cell_type": "code",
   "execution_count": 58,
   "metadata": {},
   "outputs": [
    {
     "name": "stdout",
     "output_type": "stream",
     "text": [
      "0      True\n",
      "1     False\n",
      "2     False\n",
      "3     False\n",
      "4     False\n",
      "5     False\n",
      "6     False\n",
      "7      True\n",
      "8     False\n",
      "9     False\n",
      "10    False\n",
      "11    False\n",
      "12    False\n",
      "13    False\n",
      "14     True\n",
      "15    False\n",
      "16    False\n",
      "17    False\n",
      "18    False\n",
      "19    False\n",
      "20    False\n",
      "21     True\n",
      "22    False\n",
      "23    False\n",
      "24    False\n",
      "25    False\n",
      "26    False\n",
      "27    False\n",
      "28     True\n",
      "29    False\n",
      "30    False\n",
      "Name: dayOfWeekChar, dtype: bool\n"
     ]
    }
   ],
   "source": [
    "# write a function to assign meals to days\n",
    "def assignMeal(targetDay, targetMeal, mealIdea):\n",
    "    # verify that all inputs are entered in the appropriate formats\n",
    "    if type(targetDay) is not list:\n",
    "        print('Error - enter your target days as a list')\n",
    "        return\n",
    "    if type(targetMeal) is not list:\n",
    "        print('Error - enter your target meals as a list')\n",
    "        return\n",
    "    if type(mealIdea) is not str:\n",
    "        print('Error - enter your meal idea as a string')\n",
    "        return\n",
    "    \n",
    "    # verify that all targetMeal values are strings and standard meal names\n",
    "    nonStringMeals = sum([0 if type(x) is str else 1 for x in targetMeal])\n",
    "    if nonStringMeals > 0:\n",
    "        print('Error - enter all of your target meals as strings')\n",
    "        return\n",
    "        \n",
    "    nonStandardMeals = sum([0 if x in ['breakfast', 'lunch', 'dinner'] else 1 for x in targetMeal])\n",
    "    if nonStandardMeals > 0:\n",
    "        print('Error - available meals are breakfast, lunch, and dinner')\n",
    "        return\n",
    "        \n",
    "    # check how target days are identified and verify there's only one style used\n",
    "    if len(set([type(x) for x in targetDay])) > 1:\n",
    "        print('Error - enter all of your target days in the same format')\n",
    "    \n",
    "    targetDayType = type(targetDay[0])\n",
    "    \n",
    "    # assign a dataframe column\n",
    "    if targetDayType is datetime.date:\n",
    "        targetDayField = mealsDF['dayOfMonth']\n",
    "    elif targetDayType is int:\n",
    "        targetDayField = mealsDF['dayOfWeek']\n",
    "    elif targetDayType is str:\n",
    "        targetDayField = mealsDF['dayOfWeekChar']\n",
    "        \n",
    "    print(targetDayField.isin(targetDay))\n",
    "\n",
    "\n",
    "assignMeal(['Monday'], ['breakfast', 'lunch'], 'banana')\n",
    "\n",
    "# mealsDF['dayOfWeekChar'].isin(['Monday', 'Tuesday'])"
   ]
  },
  {
   "cell_type": "code",
   "execution_count": 38,
   "metadata": {},
   "outputs": [],
   "source": [
    "# start assigning meals!\n",
    "\n",
    "# I prep by the week, so the first step is to mark out meals that are part of a week that began last month\n",
    "\n",
    "# next I can label all my boring weekday breakfasts\n",
    "breakfast = [b if d in ['Saturday', 'Sunday'] else 'oatmeal' for b, d in zip(breakfast, dayOfWeekChar)]\n",
    "\n",
    "# and treat myself to dinner out on Friday\n",
    "dinner = ['go out to eat' if d == 'Friday' else din for din, d in zip(dinner, dayOfWeekChar)]\n",
    "\n",
    "# 5:2 life makes Monday and Wednesday breakfast and lunches easy too\n",
    "breakfast = ['fast' if d in ['Monday', 'Wednesday'] else b for b, d in zip(breakfast, dayOfWeekChar)]\n",
    "lunch = ['fast' if d in ['Monday', 'Wednesday'] else l for l, d in zip(lunch, dayOfWeekChar)]"
   ]
  }
 ],
 "metadata": {
  "kernelspec": {
   "display_name": "Python 3",
   "language": "python",
   "name": "python3"
  },
  "language_info": {
   "codemirror_mode": {
    "name": "ipython",
    "version": 3
   },
   "file_extension": ".py",
   "mimetype": "text/x-python",
   "name": "python",
   "nbconvert_exporter": "python",
   "pygments_lexer": "ipython3",
   "version": "3.6.5"
  }
 },
 "nbformat": 4,
 "nbformat_minor": 2
}
